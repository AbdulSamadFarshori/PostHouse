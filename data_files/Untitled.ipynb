{
 "cells": [
  {
   "cell_type": "code",
   "execution_count": 4,
   "id": "0b8bc60e-08f2-4f3f-a757-16d2e9959fab",
   "metadata": {},
   "outputs": [
    {
     "ename": "ModuleNotFoundError",
     "evalue": "No module named 'PostHouse'",
     "output_type": "error",
     "traceback": [
      "\u001b[31m---------------------------------------------------------------------------\u001b[39m",
      "\u001b[31mModuleNotFoundError\u001b[39m                       Traceback (most recent call last)",
      "\u001b[36mCell\u001b[39m\u001b[36m \u001b[39m\u001b[32mIn[4]\u001b[39m\u001b[32m, line 2\u001b[39m\n\u001b[32m      1\u001b[39m \u001b[38;5;28;01mfrom\u001b[39;00m\u001b[38;5;250m \u001b[39m\u001b[34;01mlanggraph\u001b[39;00m\u001b[34;01m.\u001b[39;00m\u001b[34;01mgraph\u001b[39;00m\u001b[38;5;250m \u001b[39m\u001b[38;5;28;01mimport\u001b[39;00m START, END, StateGraph\n\u001b[32m----> \u001b[39m\u001b[32m2\u001b[39m \u001b[38;5;28;01mfrom\u001b[39;00m\u001b[38;5;250m \u001b[39m\u001b[34;01mPostHouse\u001b[39;00m\u001b[34;01m.\u001b[39;00m\u001b[34;01msrc\u001b[39;00m\u001b[34;01m.\u001b[39;00m\u001b[34;01mscehma\u001b[39;00m\u001b[34;01m.\u001b[39;00m\u001b[34;01magent\u001b[39;00m\u001b[38;5;250m \u001b[39m\u001b[38;5;28;01mimport\u001b[39;00m CompetitorAnalystSchema\n\u001b[32m      3\u001b[39m \u001b[38;5;28;01mfrom\u001b[39;00m\u001b[38;5;250m \u001b[39m\u001b[34;01mlanggraph\u001b[39;00m\u001b[34;01m.\u001b[39;00m\u001b[34;01mcheckpoint\u001b[39;00m\u001b[34;01m.\u001b[39;00m\u001b[34;01mmemory\u001b[39;00m\u001b[38;5;250m \u001b[39m\u001b[38;5;28;01mimport\u001b[39;00m MemorySaver\n\u001b[32m      4\u001b[39m \u001b[38;5;28;01mfrom\u001b[39;00m\u001b[38;5;250m \u001b[39m\u001b[34;01msrc\u001b[39;00m\u001b[34;01m.\u001b[39;00m\u001b[34;01mutilies\u001b[39;00m\u001b[34;01m.\u001b[39;00m\u001b[34;01mfunc\u001b[39;00m\u001b[38;5;250m \u001b[39m\u001b[38;5;28;01mimport\u001b[39;00m (scrape_client_website, \n\u001b[32m      5\u001b[39m                             generate_web_search_query, \n\u001b[32m      6\u001b[39m                             tavily_scraping, \n\u001b[32m   (...)\u001b[39m\u001b[32m     13\u001b[39m                             website_scraper,\n\u001b[32m     14\u001b[39m                             checkpoint, data_organizer, create_text_file, web_seo_analyst)\n",
      "\u001b[31mModuleNotFoundError\u001b[39m: No module named 'PostHouse'"
     ]
    }
   ],
   "source": [
    "from langgraph.graph import START, END, StateGraph\n",
    "from src.scehma.agent import CompetitorAnalystSchema\n",
    "from langgraph.checkpoint.memory import MemorySaver\n",
    "from src.utilies.func import (scrape_client_website, \n",
    "                            generate_web_search_query, \n",
    "                            tavily_scraping, \n",
    "                            condition_for_scrape, \n",
    "                            search_query_on_tavily, \n",
    "                            extract_company_name, \n",
    "                            find_competitor_urls_ddg, \n",
    "                            find_competitor_urls_google,\n",
    "                            search_engine_selector,\n",
    "                            website_scraper,\n",
    "                            checkpoint, data_organizer, create_text_file, web_seo_analyst)\n"
   ]
  },
  {
   "cell_type": "code",
   "execution_count": null,
   "id": "0f572de3-e83f-4e2f-bcb6-7ef5c19bcd49",
   "metadata": {},
   "outputs": [],
   "source": []
  }
 ],
 "metadata": {
  "kernelspec": {
   "display_name": "Python 3 (ipykernel)",
   "language": "python",
   "name": "python3"
  },
  "language_info": {
   "codemirror_mode": {
    "name": "ipython",
    "version": 3
   },
   "file_extension": ".py",
   "mimetype": "text/x-python",
   "name": "python",
   "nbconvert_exporter": "python",
   "pygments_lexer": "ipython3",
   "version": "3.13.3"
  }
 },
 "nbformat": 4,
 "nbformat_minor": 5
}
